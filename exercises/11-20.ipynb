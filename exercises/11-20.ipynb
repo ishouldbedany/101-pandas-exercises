{
 "cells": [
  {
   "cell_type": "markdown",
   "metadata": {},
   "source": [
    "# 75 pandas Exercises: Exercises 11 to 20"
   ]
  },
  {
   "cell_type": "markdown",
   "metadata": {},
   "source": [
    "Exercises 11 to 20 from [here](https://www.machinelearningplus.com/python/101-pandas-exercises-python/). Each exercise includes the question, the input and the solution's code. Sometimes, alternative solutions and comments to better explain solutions/pandas functionality are offered.\n",
    "\n",
    "Requirements: \n",
    "+ pandas\n",
    "+ numpy\n",
    "\n",
    "Happy Pandasing! 🐼"
   ]
  },
  {
   "cell_type": "markdown",
   "metadata": {},
   "source": [
    "## Imports"
   ]
  },
  {
   "cell_type": "code",
   "execution_count": 3,
   "metadata": {},
   "outputs": [],
   "source": [
    "import pandas as pd\n",
    "import numpy as np # required for some questions"
   ]
  },
  {
   "cell_type": "markdown",
   "metadata": {},
   "source": [
    "---"
   ]
  },
  {
   "cell_type": "markdown",
   "metadata": {},
   "source": [
    "## Exercises "
   ]
  },
  {
   "cell_type": "markdown",
   "metadata": {},
   "source": [
    "### 🐼 Exercise 11"
   ]
  },
  {
   "cell_type": "markdown",
   "metadata": {},
   "source": [
    "**How to bin a numeric series to 10 groups of equal size?** Bin the series `ser` into 10 equal deciles and replace the values with the bin name."
   ]
  },
  {
   "cell_type": "markdown",
   "metadata": {},
   "source": [
    "Input "
   ]
  },
  {
   "cell_type": "code",
   "execution_count": 4,
   "metadata": {},
   "outputs": [],
   "source": [
    "ser = pd.Series(np.random.random(20)) # ser is a series of 10 random numbers"
   ]
  },
  {
   "cell_type": "markdown",
   "metadata": {},
   "source": [
    "Desired output (first 5 items)"
   ]
  },
  {
   "cell_type": "markdown",
   "metadata": {},
   "source": [
    "\n",
    "_0    7th_\n",
    "\n",
    "_1    9th_\n",
    "\n",
    "_2    7th_\n",
    "\n",
    "_3    3rd_\n",
    "\n",
    "_4    8th_\n",
    "\n",
    "\n",
    "_dtype: category_\n",
    "_Categories (10, object): [1st < 2nd < 3rd < 4th ... 7th < 8th < 9th < 10th]`_"
   ]
  },
  {
   "cell_type": "markdown",
   "metadata": {},
   "source": [
    "So, Pandas allows discretization in equal-sized buckets (quantiles) through `pd.qcut`. Apparently, we can even directly give a name to the resulting bins. This seems like it!"
   ]
  },
  {
   "cell_type": "code",
   "execution_count": 6,
   "metadata": {},
   "outputs": [
    {
     "data": {
      "text/plain": [
       "0      4th\n",
       "1      1th\n",
       "2      4th\n",
       "3      7th\n",
       "4     10th\n",
       "5      7th\n",
       "6      8th\n",
       "7      9th\n",
       "8      8th\n",
       "9      5th\n",
       "10    10th\n",
       "11     1th\n",
       "12     6th\n",
       "13     6th\n",
       "14     3rd\n",
       "dtype: category\n",
       "Categories (10, object): [1th < 2nd < 3rd < 4th ... 7th < 8th < 9th < 10th]"
      ]
     },
     "execution_count": 6,
     "metadata": {},
     "output_type": "execute_result"
    }
   ],
   "source": [
    "bins = pd.qcut(ser, q=10, labels=['1th', '2nd', '3rd', '4th', '5th', '6th', '7th', '8th', '9th', '10th'])\n",
    "bins.head(15)"
   ]
  },
  {
   "cell_type": "markdown",
   "metadata": {},
   "source": [
    "So, in `bins`, for each index (matching `ser`'s index, of course), we have the quantile that sample belongs to. We can actually try to see what defines a bin."
   ]
  },
  {
   "cell_type": "code",
   "execution_count": 13,
   "metadata": {},
   "outputs": [
    {
     "name": "stdout",
     "output_type": "stream",
     "text": [
      "[0.04155485 0.11576393 0.19091413 0.25799771 0.32604731 0.50903033\n",
      " 0.7155983  0.84597955 0.87102839 0.93717372 0.95575487]\n"
     ]
    }
   ],
   "source": [
    "bins_ret, bins_limits = pd.qcut(ser, q=10, labels=['1th', '2nd', '3rd', '4th', '5th', '6th', '7th', '8th', '9th', '10th'], retbins=True)\n",
    "print(bins_limits)"
   ]
  },
  {
   "cell_type": "markdown",
   "metadata": {},
   "source": [
    "In `bins_limits`, we have thus the values that limit each of the 10 bins. The first bin, for instances, contains all samples between `0.04155485` and `0.11576393`. "
   ]
  },
  {
   "cell_type": "markdown",
   "metadata": {},
   "source": [
    "### 🐼 Exercise 12"
   ]
  },
  {
   "cell_type": "markdown",
   "metadata": {},
   "source": [
    "**Convert a numpy array to a dataframe of given shape.** Reshape the series `ser` into a dataframe with 7 rows and 5 columns."
   ]
  },
  {
   "cell_type": "markdown",
   "metadata": {},
   "source": [
    "Input"
   ]
  },
  {
   "cell_type": "code",
   "execution_count": 15,
   "metadata": {},
   "outputs": [],
   "source": [
    "ser = pd.Series(np.random.randint(1, 10, 35))"
   ]
  },
  {
   "cell_type": "markdown",
   "metadata": {},
   "source": [
    "Reshaping in pandas is a tricky business (because every row is strongly connected to an index). The easiest way is a bit of back and forth between pandas and numpy (a `np.array` representating of a `pd.DataFrame` is accessible in the `.values` method)."
   ]
  },
  {
   "cell_type": "code",
   "execution_count": 19,
   "metadata": {},
   "outputs": [
    {
     "name": "stdout",
     "output_type": "stream",
     "text": [
      "(7, 5)\n"
     ]
    }
   ],
   "source": [
    "reshaped_df = pd.DataFrame(ser.values.reshape(7, 5))\n",
    "print(reshaped_df.shape)"
   ]
  },
  {
   "cell_type": "markdown",
   "metadata": {},
   "source": [
    "_Et voilà!_"
   ]
  },
  {
   "cell_type": "markdown",
   "metadata": {},
   "source": [
    "### 🐼 Exercise 13"
   ]
  },
  {
   "cell_type": "markdown",
   "metadata": {},
   "source": [
    "**Find the positions of numbers that are multiples of 3 in a `pd.Series`.** "
   ]
  },
  {
   "cell_type": "markdown",
   "metadata": {},
   "source": [
    "Input "
   ]
  },
  {
   "cell_type": "code",
   "execution_count": 21,
   "metadata": {},
   "outputs": [],
   "source": [
    "ser = pd.Series(np.random.randint(1, 10, 7))"
   ]
  },
  {
   "cell_type": "code",
   "execution_count": null,
   "metadata": {},
   "outputs": [],
   "source": []
  }
 ],
 "metadata": {
  "kernelspec": {
   "display_name": "Python 3",
   "language": "python",
   "name": "python3"
  },
  "language_info": {
   "codemirror_mode": {
    "name": "ipython",
    "version": 3
   },
   "file_extension": ".py",
   "mimetype": "text/x-python",
   "name": "python",
   "nbconvert_exporter": "python",
   "pygments_lexer": "ipython3",
   "version": "3.7.1"
  }
 },
 "nbformat": 4,
 "nbformat_minor": 2
}
